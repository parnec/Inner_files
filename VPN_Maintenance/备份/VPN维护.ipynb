{
 "cells": [
  {
   "cell_type": "markdown",
   "metadata": {},
   "source": [
    "# 测试顺序\n",
    "\n",
    "1.首先进行 ping测试 。如果 ping测试 有问题，那么问题可能是以下两种情况：\n",
    "\n",
    "- VPS所在的网络有问题，导致VPN不能正常使用；\n",
    "- 该VPS所在的IP段已经被封。\n",
    "\n",
    "2.如果 ping 测试 正常，那么问题可能是以下两种情况：\n",
    "\n",
    "- 本地端的局域网的防火墙阻挡（解决方案：换一个局域网）；\n",
    "- VPS宕机（解决方案：重启VPS并重启shadowsocks服务）。\n",
    "\n",
    "\n",
    "## ping测试\n",
    "\n",
    "\n",
    "**Note:**\n",
    "推荐使用第一种，即 **用站长工具测试** 。\n",
    "\n",
    "### 用站长工具测试\n",
    "\n",
    "进入 [站长工具 > Ping检测](http://ping.chinaz.com/) ，输入你的VPS地址进行ping测试。\n",
    "\n",
    "### 直接ping测试\n",
    "\n",
    "```bash\n",
    "ping 你的VPS地址\n",
    "```\n",
    "\n",
    "## 重启VPS并重启shadowsocks服务\n",
    "\n",
    "### 重启VPS\n",
    "\n",
    "```bash\n",
    "reboot\n",
    "```\n",
    "\n",
    "ssh连接到VPS\n",
    "\n",
    "```bash\n",
    "ssh root@你的VPS地址\n",
    "```\n",
    "\n",
    "### 重启shadowsocks服务\n",
    "\n",
    "```bash\n",
    "nohup ssserver -c /etc/shadowsocks.json &\n",
    "```\n",
    "\n",
    "---\n",
    "\n",
    "---\n"
   ]
  }
 ],
 "metadata": {
  "kernelspec": {
   "display_name": "Python 3",
   "language": "python",
   "name": "python3"
  },
  "language_info": {
   "codemirror_mode": {
    "name": "ipython",
    "version": 3
   },
   "file_extension": ".py",
   "mimetype": "text/x-python",
   "name": "python",
   "nbconvert_exporter": "python",
   "pygments_lexer": "ipython3",
   "version": "3.6.3"
  }
 },
 "nbformat": 4,
 "nbformat_minor": 2
}
